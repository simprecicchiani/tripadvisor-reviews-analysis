{
 "cells": [
  {
   "cell_type": "code",
   "execution_count": 171,
   "metadata": {},
   "outputs": [],
   "source": [
    "import pandas as pd\n",
    "import numpy as np\n",
    "import matplotlib.pyplot as plt\n",
    "from sklearn.feature_extraction.text import CountVectorizer\n",
    "from sklearn.model_selection import train_test_split\n",
    "from sklearn.ensemble import RandomForestClassifier\n",
    "from sklearn.metrics import confusion_matrix, accuracy_score"
   ]
  },
  {
   "cell_type": "code",
   "execution_count": 20,
   "metadata": {},
   "outputs": [],
   "source": [
    "dataset = pd.read_csv('tripadvisor_hotel_reviews_clean.csv', delimiter=',')"
   ]
  },
  {
   "cell_type": "code",
   "execution_count": 168,
   "metadata": {},
   "outputs": [
    {
     "data": {
      "text/html": [
       "<div>\n",
       "<style scoped>\n",
       "    .dataframe tbody tr th:only-of-type {\n",
       "        vertical-align: middle;\n",
       "    }\n",
       "\n",
       "    .dataframe tbody tr th {\n",
       "        vertical-align: top;\n",
       "    }\n",
       "\n",
       "    .dataframe thead th {\n",
       "        text-align: right;\n",
       "    }\n",
       "</style>\n",
       "<table border=\"1\" class=\"dataframe\">\n",
       "  <thead>\n",
       "    <tr style=\"text-align: right;\">\n",
       "      <th></th>\n",
       "      <th>Rating</th>\n",
       "    </tr>\n",
       "  </thead>\n",
       "  <tbody>\n",
       "    <tr>\n",
       "      <th>count</th>\n",
       "      <td>20491.000000</td>\n",
       "    </tr>\n",
       "    <tr>\n",
       "      <th>mean</th>\n",
       "      <td>3.952223</td>\n",
       "    </tr>\n",
       "    <tr>\n",
       "      <th>std</th>\n",
       "      <td>1.233030</td>\n",
       "    </tr>\n",
       "    <tr>\n",
       "      <th>min</th>\n",
       "      <td>1.000000</td>\n",
       "    </tr>\n",
       "    <tr>\n",
       "      <th>25%</th>\n",
       "      <td>3.000000</td>\n",
       "    </tr>\n",
       "    <tr>\n",
       "      <th>50%</th>\n",
       "      <td>4.000000</td>\n",
       "    </tr>\n",
       "    <tr>\n",
       "      <th>75%</th>\n",
       "      <td>5.000000</td>\n",
       "    </tr>\n",
       "    <tr>\n",
       "      <th>max</th>\n",
       "      <td>5.000000</td>\n",
       "    </tr>\n",
       "  </tbody>\n",
       "</table>\n",
       "</div>"
      ],
      "text/plain": [
       "             Rating\n",
       "count  20491.000000\n",
       "mean       3.952223\n",
       "std        1.233030\n",
       "min        1.000000\n",
       "25%        3.000000\n",
       "50%        4.000000\n",
       "75%        5.000000\n",
       "max        5.000000"
      ]
     },
     "execution_count": 168,
     "metadata": {},
     "output_type": "execute_result"
    }
   ],
   "source": [
    "dataset.describe()"
   ]
  },
  {
   "cell_type": "code",
   "execution_count": 176,
   "metadata": {},
   "outputs": [
    {
     "data": {
      "text/plain": [
       "<AxesSubplot:ylabel='Frequency'>"
      ]
     },
     "execution_count": 176,
     "metadata": {},
     "output_type": "execute_result"
    },
    {
     "data": {
      "image/png": "[encoded data removed]",
      "text/plain": [
       "<Figure size 432x288 with 1 Axes>"
      ]
     },
     "metadata": {
      "needs_background": "light"
     },
     "output_type": "display_data"
    }
   ],
   "source": [
    "dataset['Rating'].plot.hist()"
   ]
  },
  {
   "cell_type": "code",
   "execution_count": 136,
   "metadata": {},
   "outputs": [
    {
     "data": {
      "text/plain": [
       "array(['air condit', 'arriv hotel', 'ask room', 'bar restaur',\n",
       "       'beach beauti', 'beach pool', 'bed comfort', 'best hotel',\n",
       "       'block away', 'book hotel', 'book room', 'bottl water',\n",
       "       'boutiqu hotel', 'breakfast buffet', 'breakfast good',\n",
       "       'breakfast includ', 'breakfast room', 'buffet breakfast',\n",
       "       'central locat', 'clean comfort', 'clean room', 'clean staff',\n",
       "       'comfort bed', 'comfort room', 'continent breakfast',\n",
       "       'credit card', 'custom servic', 'day stay', 'definit recommend',\n",
       "       'definit stay', 'desk staff', 'doubl bed', 'earli morn',\n",
       "       'easi walk', 'enjoy stay', 'excel hotel', 'excel locat',\n",
       "       'extrem help', 'feel like', 'felt like', 'flat screen',\n",
       "       'floor room', 'food good', 'food great', 'free internet',\n",
       "       'fresh fruit', 'friendli help', 'friendli staff', 'good food',\n",
       "       'good hotel', 'good locat', 'good servic', 'good size',\n",
       "       'good thing', 'good time', 'good valu', 'got room', 'great food',\n",
       "       'great hotel', 'great locat', 'great place', 'great room',\n",
       "       'great servic', 'great staff', 'great stay', 'great time',\n",
       "       'great valu', 'great view', 'help friendli', 'help room',\n",
       "       'help staff', 'highli recommend', 'hong kong', 'hot water',\n",
       "       'hotel book', 'hotel clean', 'hotel excel', 'hotel good',\n",
       "       'hotel great', 'hotel hotel', 'hotel locat', 'hotel nice',\n",
       "       'hotel night', 'hotel restaur', 'hotel room', 'hotel staff',\n",
       "       'hotel stay', 'husband stay', 'internet access', 'king size',\n",
       "       'la cart', 'la rambla', 'late night', 'lobbi bar', 'locat excel',\n",
       "       'locat good', 'locat great', 'locat hotel', 'locat perfect',\n",
       "       'locat stay', 'look forward', 'look like', 'love hotel',\n",
       "       'make reserv', 'make sure', 'metro station', 'min walk',\n",
       "       'mini bar', 'minut walk', 'new orlean', 'new york', 'nice clean',\n",
       "       'nice hotel', 'nice room', 'nice touch', 'night hotel',\n",
       "       'night room', 'night stay', 'non smoke', 'ocean view', 'old san',\n",
       "       'outsid hotel', 'perfect locat', 'place eat', 'place stay',\n",
       "       'pool area', 'pool bar', 'pool beach', 'pretti good',\n",
       "       'puerto rico', 'punta cana', 'read review', 'realli enjoy',\n",
       "       'realli good', 'realli nice', 'reason price', 'recept staff',\n",
       "       'recommend hotel', 'restaur good', 'room bathroom', 'room beauti',\n",
       "       'room clean', 'room comfort', 'room floor', 'room good',\n",
       "       'room great', 'room hotel', 'room larg', 'room love', 'room nice',\n",
       "       'room readi', 'room room', 'room servic', 'room small',\n",
       "       'room spaciou', 'room stay', 'room th', 'room view',\n",
       "       'royal servic', 'san francisco', 'san juan', 'screen tv',\n",
       "       'servic excel', 'servic good', 'servic great', 'short walk',\n",
       "       'size bed', 'smoke room', 'speak english', 'spent night',\n",
       "       'staff extrem', 'staff friendli', 'staff great', 'staff help',\n",
       "       'staff hotel', 'staff nice', 'standard room', 'star hotel',\n",
       "       'stay day', 'stay hotel', 'stay night', 'stay room', 'stay stay',\n",
       "       'swim bar', 'swim pool', 'tea coffe', 'th floor', 'time squar',\n",
       "       'time stay', 'train station', 'travel agent', 'trip advisor',\n",
       "       'union squar', 'valu money', 'view room', 'walk away',\n",
       "       'walk beach', 'walk distanc', 'walk hotel', 'year old'],\n",
       "      dtype=object)"
      ]
     },
     "execution_count": 136,
     "metadata": {},
     "output_type": "execute_result"
    }
   ],
   "source": [
    "# To extract max 2000 feature.\n",
    "# \"max_features\" is attribute to\n",
    "# experiment with to get better results\n",
    "cv = CountVectorizer(max_features = 200, ngram_range=(2, 2))\n",
    " \n",
    "# X contains corpus (dependent variable)\n",
    "X = cv.fit_transform(dataset['Review']).toarray()\n",
    " \n",
    "# y contains answers if review\n",
    "# is positive or negative\n",
    "y = dataset['Rating']>3\n",
    "\n",
    "cv.get_feature_names_out()"
   ]
  },
  {
   "cell_type": "code",
   "execution_count": 137,
   "metadata": {},
   "outputs": [],
   "source": [
    "# experiment with \"test_size\"\n",
    "# to get better results\n",
    "X_train, X_test, y_train, y_test = train_test_split(X, y, test_size = 0.25)"
   ]
  },
  {
   "cell_type": "code",
   "execution_count": 138,
   "metadata": {},
   "outputs": [
    {
     "data": {
      "text/plain": [
       "RandomForestClassifier()"
      ]
     },
     "execution_count": 138,
     "metadata": {},
     "output_type": "execute_result"
    }
   ],
   "source": [
    "# n_estimators can be said as number of\n",
    "# trees, experiment with n_estimators\n",
    "# to get better results\n",
    "model = RandomForestClassifier(n_estimators = 100, criterion = 'gini')\n",
    "                             \n",
    "model.fit(X_train, y_train)"
   ]
  },
  {
   "cell_type": "code",
   "execution_count": 139,
   "metadata": {},
   "outputs": [
    {
     "data": {
      "text/plain": [
       "array([ True,  True,  True, ...,  True,  True,  True])"
      ]
     },
     "execution_count": 139,
     "metadata": {},
     "output_type": "execute_result"
    }
   ],
   "source": [
    "# Predicting the Test set results\n",
    "y_pred = model.predict(X_test)\n",
    " \n",
    "y_pred"
   ]
  },
  {
   "cell_type": "code",
   "execution_count": 140,
   "metadata": {},
   "outputs": [
    {
     "data": {
      "text/plain": [
       "array([[ 474,  827],\n",
       "       [ 371, 3451]])"
      ]
     },
     "execution_count": 140,
     "metadata": {},
     "output_type": "execute_result"
    }
   ],
   "source": [
    "# Making the Confusion Matrix\n",
    "cm = confusion_matrix(y_test, y_pred)\n",
    " \n",
    "cm"
   ]
  },
  {
   "cell_type": "code",
   "execution_count": 141,
   "metadata": {},
   "outputs": [
    {
     "data": {
      "text/plain": [
       "0.7661526449346087"
      ]
     },
     "execution_count": 141,
     "metadata": {},
     "output_type": "execute_result"
    }
   ],
   "source": [
    "accuracy_score(y_test,y_pred)"
   ]
  },
  {
   "cell_type": "code",
   "execution_count": 166,
   "metadata": {},
   "outputs": [
    {
     "data": {
      "text/html": [
       "<div>\n",
       "<style scoped>\n",
       "    .dataframe tbody tr th:only-of-type {\n",
       "        vertical-align: middle;\n",
       "    }\n",
       "\n",
       "    .dataframe tbody tr th {\n",
       "        vertical-align: top;\n",
       "    }\n",
       "\n",
       "    .dataframe thead th {\n",
       "        text-align: right;\n",
       "    }\n",
       "</style>\n",
       "<table border=\"1\" class=\"dataframe\">\n",
       "  <thead>\n",
       "    <tr style=\"text-align: right;\">\n",
       "      <th></th>\n",
       "      <th>feature</th>\n",
       "      <th>importance</th>\n",
       "    </tr>\n",
       "  </thead>\n",
       "  <tbody>\n",
       "    <tr>\n",
       "      <th>58</th>\n",
       "      <td>great hotel</td>\n",
       "      <td>0.015846</td>\n",
       "    </tr>\n",
       "    <tr>\n",
       "      <th>71</th>\n",
       "      <td>highli recommend</td>\n",
       "      <td>0.015838</td>\n",
       "    </tr>\n",
       "    <tr>\n",
       "      <th>179</th>\n",
       "      <td>stay hotel</td>\n",
       "      <td>0.014269</td>\n",
       "    </tr>\n",
       "    <tr>\n",
       "      <th>141</th>\n",
       "      <td>room clean</td>\n",
       "      <td>0.013838</td>\n",
       "    </tr>\n",
       "    <tr>\n",
       "      <th>180</th>\n",
       "      <td>stay night</td>\n",
       "      <td>0.011348</td>\n",
       "    </tr>\n",
       "    <tr>\n",
       "      <th>130</th>\n",
       "      <td>punta cana</td>\n",
       "      <td>0.010868</td>\n",
       "    </tr>\n",
       "    <tr>\n",
       "      <th>177</th>\n",
       "      <td>star hotel</td>\n",
       "      <td>0.010808</td>\n",
       "    </tr>\n",
       "    <tr>\n",
       "      <th>29</th>\n",
       "      <td>definit stay</td>\n",
       "      <td>0.010588</td>\n",
       "    </tr>\n",
       "    <tr>\n",
       "      <th>84</th>\n",
       "      <td>hotel room</td>\n",
       "      <td>0.010440</td>\n",
       "    </tr>\n",
       "    <tr>\n",
       "      <th>25</th>\n",
       "      <td>credit card</td>\n",
       "      <td>0.010353</td>\n",
       "    </tr>\n",
       "    <tr>\n",
       "      <th>152</th>\n",
       "      <td>room servic</td>\n",
       "      <td>0.010327</td>\n",
       "    </tr>\n",
       "    <tr>\n",
       "      <th>46</th>\n",
       "      <td>friendli help</td>\n",
       "      <td>0.010007</td>\n",
       "    </tr>\n",
       "    <tr>\n",
       "      <th>86</th>\n",
       "      <td>hotel stay</td>\n",
       "      <td>0.009988</td>\n",
       "    </tr>\n",
       "    <tr>\n",
       "      <th>171</th>\n",
       "      <td>staff friendli</td>\n",
       "      <td>0.009682</td>\n",
       "    </tr>\n",
       "    <tr>\n",
       "      <th>149</th>\n",
       "      <td>room nice</td>\n",
       "      <td>0.008980</td>\n",
       "    </tr>\n",
       "    <tr>\n",
       "      <th>59</th>\n",
       "      <td>great locat</td>\n",
       "      <td>0.008952</td>\n",
       "    </tr>\n",
       "    <tr>\n",
       "      <th>153</th>\n",
       "      <td>room small</td>\n",
       "      <td>0.008673</td>\n",
       "    </tr>\n",
       "    <tr>\n",
       "      <th>131</th>\n",
       "      <td>read review</td>\n",
       "      <td>0.008280</td>\n",
       "    </tr>\n",
       "    <tr>\n",
       "      <th>108</th>\n",
       "      <td>minut walk</td>\n",
       "      <td>0.008247</td>\n",
       "    </tr>\n",
       "    <tr>\n",
       "      <th>85</th>\n",
       "      <td>hotel staff</td>\n",
       "      <td>0.008203</td>\n",
       "    </tr>\n",
       "  </tbody>\n",
       "</table>\n",
       "</div>"
      ],
      "text/plain": [
       "              feature  importance\n",
       "58        great hotel    0.015846\n",
       "71   highli recommend    0.015838\n",
       "179        stay hotel    0.014269\n",
       "141        room clean    0.013838\n",
       "180        stay night    0.011348\n",
       "130        punta cana    0.010868\n",
       "177        star hotel    0.010808\n",
       "29       definit stay    0.010588\n",
       "84         hotel room    0.010440\n",
       "25        credit card    0.010353\n",
       "152       room servic    0.010327\n",
       "46      friendli help    0.010007\n",
       "86         hotel stay    0.009988\n",
       "171    staff friendli    0.009682\n",
       "149         room nice    0.008980\n",
       "59        great locat    0.008952\n",
       "153        room small    0.008673\n",
       "131       read review    0.008280\n",
       "108        minut walk    0.008247\n",
       "85        hotel staff    0.008203"
      ]
     },
     "execution_count": 166,
     "metadata": {},
     "output_type": "execute_result"
    }
   ],
   "source": [
    "df = pd.DataFrame({'feature':cv.get_feature_names_out(),\n",
    "                    'importance':model.feature_importances_})\n",
    "df.sort_values('importance',ascending=False).head(20)"
   ]
  },
  {
   "cell_type": "code",
   "execution_count": 165,
   "metadata": {},
   "outputs": [
    {
     "data": {
      "text/html": [
       "<div>\n",
       "<style scoped>\n",
       "    .dataframe tbody tr th:only-of-type {\n",
       "        vertical-align: middle;\n",
       "    }\n",
       "\n",
       "    .dataframe tbody tr th {\n",
       "        vertical-align: top;\n",
       "    }\n",
       "\n",
       "    .dataframe thead th {\n",
       "        text-align: right;\n",
       "    }\n",
       "</style>\n",
       "<table border=\"1\" class=\"dataframe\">\n",
       "  <thead>\n",
       "    <tr style=\"text-align: right;\">\n",
       "      <th></th>\n",
       "      <th>feature</th>\n",
       "      <th>importance</th>\n",
       "    </tr>\n",
       "  </thead>\n",
       "  <tbody>\n",
       "    <tr>\n",
       "      <th>58</th>\n",
       "      <td>great hotel</td>\n",
       "      <td>0.015846</td>\n",
       "    </tr>\n",
       "    <tr>\n",
       "      <th>71</th>\n",
       "      <td>highli recommend</td>\n",
       "      <td>0.015838</td>\n",
       "    </tr>\n",
       "    <tr>\n",
       "      <th>179</th>\n",
       "      <td>stay hotel</td>\n",
       "      <td>0.014269</td>\n",
       "    </tr>\n",
       "    <tr>\n",
       "      <th>141</th>\n",
       "      <td>room clean</td>\n",
       "      <td>0.013838</td>\n",
       "    </tr>\n",
       "    <tr>\n",
       "      <th>180</th>\n",
       "      <td>stay night</td>\n",
       "      <td>0.011348</td>\n",
       "    </tr>\n",
       "    <tr>\n",
       "      <th>130</th>\n",
       "      <td>punta cana</td>\n",
       "      <td>0.010868</td>\n",
       "    </tr>\n",
       "    <tr>\n",
       "      <th>177</th>\n",
       "      <td>star hotel</td>\n",
       "      <td>0.010808</td>\n",
       "    </tr>\n",
       "    <tr>\n",
       "      <th>29</th>\n",
       "      <td>definit stay</td>\n",
       "      <td>0.010588</td>\n",
       "    </tr>\n",
       "    <tr>\n",
       "      <th>84</th>\n",
       "      <td>hotel room</td>\n",
       "      <td>0.010440</td>\n",
       "    </tr>\n",
       "    <tr>\n",
       "      <th>25</th>\n",
       "      <td>credit card</td>\n",
       "      <td>0.010353</td>\n",
       "    </tr>\n",
       "    <tr>\n",
       "      <th>152</th>\n",
       "      <td>room servic</td>\n",
       "      <td>0.010327</td>\n",
       "    </tr>\n",
       "    <tr>\n",
       "      <th>46</th>\n",
       "      <td>friendli help</td>\n",
       "      <td>0.010007</td>\n",
       "    </tr>\n",
       "    <tr>\n",
       "      <th>86</th>\n",
       "      <td>hotel stay</td>\n",
       "      <td>0.009988</td>\n",
       "    </tr>\n",
       "    <tr>\n",
       "      <th>171</th>\n",
       "      <td>staff friendli</td>\n",
       "      <td>0.009682</td>\n",
       "    </tr>\n",
       "    <tr>\n",
       "      <th>149</th>\n",
       "      <td>room nice</td>\n",
       "      <td>0.008980</td>\n",
       "    </tr>\n",
       "    <tr>\n",
       "      <th>59</th>\n",
       "      <td>great locat</td>\n",
       "      <td>0.008952</td>\n",
       "    </tr>\n",
       "    <tr>\n",
       "      <th>153</th>\n",
       "      <td>room small</td>\n",
       "      <td>0.008673</td>\n",
       "    </tr>\n",
       "    <tr>\n",
       "      <th>131</th>\n",
       "      <td>read review</td>\n",
       "      <td>0.008280</td>\n",
       "    </tr>\n",
       "    <tr>\n",
       "      <th>108</th>\n",
       "      <td>minut walk</td>\n",
       "      <td>0.008247</td>\n",
       "    </tr>\n",
       "    <tr>\n",
       "      <th>85</th>\n",
       "      <td>hotel staff</td>\n",
       "      <td>0.008203</td>\n",
       "    </tr>\n",
       "  </tbody>\n",
       "</table>\n",
       "</div>"
      ],
      "text/plain": [
       "              feature  importance\n",
       "58        great hotel    0.015846\n",
       "71   highli recommend    0.015838\n",
       "179        stay hotel    0.014269\n",
       "141        room clean    0.013838\n",
       "180        stay night    0.011348\n",
       "130        punta cana    0.010868\n",
       "177        star hotel    0.010808\n",
       "29       definit stay    0.010588\n",
       "84         hotel room    0.010440\n",
       "25        credit card    0.010353\n",
       "152       room servic    0.010327\n",
       "46      friendli help    0.010007\n",
       "86         hotel stay    0.009988\n",
       "171    staff friendli    0.009682\n",
       "149         room nice    0.008980\n",
       "59        great locat    0.008952\n",
       "153        room small    0.008673\n",
       "131       read review    0.008280\n",
       "108        minut walk    0.008247\n",
       "85        hotel staff    0.008203"
      ]
     },
     "execution_count": 165,
     "metadata": {},
     "output_type": "execute_result"
    }
   ],
   "source": []
  },
  {
   "cell_type": "code",
   "execution_count": 112,
   "metadata": {},
   "outputs": [
    {
     "data": {
      "text/plain": [
       "(<20491x937492 sparse matrix of type '<class 'numpy.int64'>'\n",
       " \twith 128877419 stored elements in Compressed Sparse Row format>,\n",
       " array([     0,   9313,  18730,  28169,  37792,  47493,  56640,  66231,\n",
       "         75544,  84889,  94392, 104125, 113368, 122733, 131862, 141289,\n",
       "        150666, 159967, 169296, 178433, 188072, 197503, 206922, 216089,\n",
       "        225452, 234683, 244164, 253613, 262878, 272099, 281592, 290841,\n",
       "        300326, 310195, 319418, 328887, 338044, 347303, 356886, 366255,\n",
       "        375810, 385157, 394582, 404061, 413228, 422687, 432132, 441461,\n",
       "        450832, 460119, 469358, 478839, 488082, 497339, 506846, 516165,\n",
       "        525648, 534955, 544432, 553849, 563158, 572437, 581700, 591137,\n",
       "        600188, 609543, 619218, 628233, 637826, 647339, 656792, 665923,\n",
       "        675570, 685051, 694426, 703705, 713260, 722639, 732074, 741339,\n",
       "        750740, 760007, 769410, 779043, 788424, 797743, 806912, 816219,\n",
       "        825348, 834575, 844030, 853365, 862648, 872231, 881668, 890845,\n",
       "        900348, 909739, 918948, 928203, 937492]))"
      ]
     },
     "execution_count": 112,
     "metadata": {},
     "output_type": "execute_result"
    }
   ],
   "source": [
    "model.decision_path(X)"
   ]
  },
  {
   "cell_type": "code",
   "execution_count": null,
   "metadata": {},
   "outputs": [],
   "source": []
  }
 ],
 "metadata": {
  "interpreter": {
   "hash": "c4602e2d38265a66ddf6f83ed232324aee8cf938c2889990f93767c388cae267"
  },
  "kernelspec": {
   "display_name": "Python 3.9.7 64-bit ('testing': conda)",
   "language": "python",
   "name": "python3"
  },
  "language_info": {
   "codemirror_mode": {
    "name": "ipython",
    "version": 3
   },
   "file_extension": ".py",
   "mimetype": "text/x-python",
   "name": "python",
   "nbconvert_exporter": "python",
   "pygments_lexer": "ipython3",
   "version": "3.9.7"
  },
  "orig_nbformat": 4
 },
 "nbformat": 4,
 "nbformat_minor": 2
}
